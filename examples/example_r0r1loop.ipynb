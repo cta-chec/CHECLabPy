{
 "cells": [
  {
   "cell_type": "markdown",
   "metadata": {},
   "source": [
    "# Looping over r0 and r1 simulataneously"
   ]
  },
  {
   "cell_type": "markdown",
   "metadata": {},
   "source": [
    "Simple example showing how to loop over events from a single file, or multiple files"
   ]
  },
  {
   "cell_type": "code",
   "execution_count": 1,
   "metadata": {
    "collapsed": true
   },
   "outputs": [],
   "source": [
    "import numpy as np\n",
    "from CHECLabPy.core.io import TIOReader"
   ]
  },
  {
   "cell_type": "code",
   "execution_count": 2,
   "metadata": {},
   "outputs": [
    {
     "name": "stdout",
     "output_type": "stream",
     "text": [
      "['__class__', '__delattr__', '__dict__', '__dir__', '__doc__', '__eq__', '__format__', '__ge__', '__getattribute__', '__getitem__', '__gt__', '__hash__', '__init__', '__iter__', '__le__', '__lt__', '__module__', '__ne__', '__new__', '__reduce__', '__reduce_ex__', '__repr__', '__setattr__', '__sizeof__', '__str__', '__subclasshook__', '__weakref__', '_camera_config', '_get_event', '_mapping', '_reader', 'camera_version', 'current_cpu_ns', 'current_cpu_s', 'current_tack', 'first_cell_ids', 'get_tio_event', 'is_r1', 'mapping', 'n_cells', 'n_events', 'n_modules', 'n_pixels', 'n_samples', 'n_tmpix', 'path', 'run_id', 'samples']\n"
     ]
    }
   ],
   "source": [
    "r0 = TIOReader('../CHECLabPy/data/chec_r1.tio')\n",
    "print(dir(r0))"
   ]
  },
  {
   "cell_type": "code",
   "execution_count": 3,
   "metadata": {},
   "outputs": [],
   "source": [
    "r1 = TIOReader('../CHECLabPy/data/chec_r1.tio')"
   ]
  },
  {
   "cell_type": "code",
   "execution_count": 4,
   "metadata": {
    "collapsed": true
   },
   "outputs": [],
   "source": [
    "rlist = [r0, r1]"
   ]
  },
  {
   "cell_type": "code",
   "execution_count": 5,
   "metadata": {},
   "outputs": [
    {
     "name": "stdout",
     "output_type": "stream",
     "text": [
      "Number of events in file = 5\n"
     ]
    }
   ],
   "source": [
    "nev = rlist[0].n_events\n",
    "print (\"Number of events in file = %i\" % nev)\n",
    "for r in rlist:\n",
    "    if not nev == r.n_events:\n",
    "        print (\"ERROR\")"
   ]
  },
  {
   "cell_type": "code",
   "execution_count": 27,
   "metadata": {},
   "outputs": [
    {
     "name": "stdout",
     "output_type": "stream",
     "text": [
      "Ev=0 #pix=2048 #sam=128 dt=0 ms peak=-274\n",
      "Ev=1 #pix=2048 #sam=128 dt=2 ms peak=-274\n",
      "Ev=2 #pix=2048 #sam=128 dt=4 ms peak=-274\n",
      "Ev=3 #pix=2048 #sam=128 dt=6 ms peak=-274\n",
      "Ev=4 #pix=2048 #sam=128 dt=8 ms peak=-274\n"
     ]
    }
   ],
   "source": [
    "# Simple loop over events from 1 file\n",
    "for iev in range(nev):\n",
    "    wf = r0[iev]\n",
    "    avwf = np.mean(wf)\n",
    "    peak = np.max(avwf)\n",
    "    tack = r0.current_tack\n",
    "    if iev == 0: tack0 = tack\n",
    "    print(\"Ev=%i #pix=%i #sam=%i dt=%d ms peak=%d\" % (iev, len(wf), len(wf[0]), float(tack-tack0)/1e6, peak))"
   ]
  },
  {
   "cell_type": "code",
   "execution_count": 28,
   "metadata": {},
   "outputs": [
    {
     "name": "stdout",
     "output_type": "stream",
     "text": [
      "Ev=0 #pix=2048 #sam=128 dt=0 ms peak=-274\n",
      "Ev=1 #pix=2048 #sam=128 dt=2 ms peak=-274\n",
      "Ev=2 #pix=2048 #sam=128 dt=4 ms peak=-274\n",
      "Ev=3 #pix=2048 #sam=128 dt=6 ms peak=-274\n",
      "Ev=4 #pix=2048 #sam=128 dt=8 ms peak=-274\n"
     ]
    }
   ],
   "source": [
    "# Using itterators\n",
    "for wf in r0:\n",
    "    avwf = np.mean(wf)\n",
    "    peak = np.max(avwf)\n",
    "    tack = r0.current_tack\n",
    "    if r0.index == 0: tack0 = tack\n",
    "    print(\"Ev=%i #pix=%i #sam=%i dt=%d ms peak=%d\" % (r0.index, len(wf), len(wf[0]), float(tack-tack0)/1e6, peak))"
   ]
  },
  {
   "cell_type": "code",
   "execution_count": 30,
   "metadata": {},
   "outputs": [
    {
     "name": "stdout",
     "output_type": "stream",
     "text": [
      "Ev=0\n",
      "R0 #pix=2048 #sam=128 dt=0 ms peak=-274\n",
      "R0 #pix=2048 #sam=128 dt=0 ms peak=-274\n",
      "Ev=1\n",
      "R1 #pix=2048 #sam=128 dt=2 ms peak=-274\n",
      "R1 #pix=2048 #sam=128 dt=2 ms peak=-274\n",
      "Ev=2\n",
      "R2 #pix=2048 #sam=128 dt=4 ms peak=-274\n",
      "R2 #pix=2048 #sam=128 dt=4 ms peak=-274\n",
      "Ev=3\n",
      "R3 #pix=2048 #sam=128 dt=6 ms peak=-274\n",
      "R3 #pix=2048 #sam=128 dt=6 ms peak=-274\n",
      "Ev=4\n",
      "R4 #pix=2048 #sam=128 dt=8 ms peak=-274\n",
      "R4 #pix=2048 #sam=128 dt=8 ms peak=-274\n"
     ]
    }
   ],
   "source": [
    "# Simple loop over events from 2 files\n",
    "for iev in range(nev):\n",
    "    print (\"Ev=%i\" % iev)\n",
    "    for r in rlist:\n",
    "        wf = r[iev]\n",
    "        avwf = np.mean(wf)\n",
    "        peak = np.max(avwf)\n",
    "        tack = r.current_tack\n",
    "        if iev == 0: tack0 = tack\n",
    "        print(\"R%i #pix=%i #sam=%i dt=%d ms peak=%d\" % (r.index, len(wf), len(wf[0]), float(tack-tack0)/1e6, peak))"
   ]
  },
  {
   "cell_type": "code",
   "execution_count": 31,
   "metadata": {},
   "outputs": [
    {
     "name": "stdout",
     "output_type": "stream",
     "text": [
      "Ev=0\n",
      "R0 #pix=2048 #sam=128 dt=0 ms peak=-274\n",
      "R1 #pix=2048 #sam=128 dt=0 ms peak=-274\n",
      "Ev=1\n",
      "R0 #pix=2048 #sam=128 dt=2 ms peak=-274\n",
      "R1 #pix=2048 #sam=128 dt=2 ms peak=-274\n",
      "Ev=2\n",
      "R0 #pix=2048 #sam=128 dt=4 ms peak=-274\n",
      "R1 #pix=2048 #sam=128 dt=4 ms peak=-274\n",
      "Ev=3\n",
      "R0 #pix=2048 #sam=128 dt=6 ms peak=-274\n",
      "R1 #pix=2048 #sam=128 dt=6 ms peak=-274\n",
      "Ev=4\n",
      "R0 #pix=2048 #sam=128 dt=8 ms peak=-274\n",
      "R1 #pix=2048 #sam=128 dt=8 ms peak=-274\n"
     ]
    }
   ],
   "source": [
    "# Alternative Method using itterators\n",
    "for wfr0, wfr1 in zip(r0, r1):\n",
    "    peakr0 = np.max(np.mean(wfr0))\n",
    "    peakr1 = np.max(np.mean(wfr1))\n",
    "    tack = r0.current_tack\n",
    "    if r0.index == 0: tack0 = tack\n",
    "    print (\"Ev=%i\" % r0.index)\n",
    "    print (\"R0 #pix=%i #sam=%i dt=%d ms peak=%d\" % (len(wfr0), len(wfr0[0]), float(tack-tack0)/1e6, peakr0))\n",
    "    print (\"R1 #pix=%i #sam=%i dt=%d ms peak=%d\" % (len(wfr1), len(wfr1[0]), float(tack-tack0)/1e6, peakr1))"
   ]
  }
 ],
 "metadata": {
  "kernelspec": {
   "display_name": "Python [conda env:cta]",
   "language": "python",
   "name": "conda-env-cta-py"
  },
  "language_info": {
   "codemirror_mode": {
    "name": "ipython",
    "version": 3
   },
   "file_extension": ".py",
   "mimetype": "text/x-python",
   "name": "python",
   "nbconvert_exporter": "python",
   "pygments_lexer": "ipython3",
   "version": "3.5.1"
  }
 },
 "nbformat": 4,
 "nbformat_minor": 2
}

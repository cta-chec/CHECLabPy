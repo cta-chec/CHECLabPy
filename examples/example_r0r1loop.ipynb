{
 "cells": [
  {
   "cell_type": "markdown",
   "metadata": {},
   "source": [
    "# Looping of r0 and r1 simulataneously"
   ]
  },
  {
   "cell_type": "code",
   "execution_count": 4,
   "metadata": {},
   "outputs": [],
   "source": [
    "import numpy as np\n",
    "import CHECLabPy as cpy"
   ]
  },
  {
   "cell_type": "code",
   "execution_count": 95,
   "metadata": {},
   "outputs": [
    {
     "name": "stdout",
     "output_type": "stream",
     "text": [
      "['CreateASCII', 'GetASIC', 'GetASICVector', 'GetChannel', 'GetChannelVector', 'GetColumn', 'GetColumnVector', 'GetHVPatch', 'GetHVPatchVector', 'GetNColumns', 'GetNModules', 'GetNPixels', 'GetNRows', 'GetNTMPix', 'GetPixel', 'GetPixelVector', 'GetRow', 'GetRowVector', 'GetSipmPix', 'GetSipmPixVector', 'GetSlot', 'GetSlotVector', 'GetTMPixel', 'GetTMPixelVector', 'GetTriggerPatch', 'GetTriggerPatchVector', 'GetXPix', 'GetXPixVector', 'GetYPix', 'GetYPixVector', 'IsSingleModule', 'Rotate', '__class__', '__del__', '__delattr__', '__dict__', '__dir__', '__doc__', '__eq__', '__format__', '__ge__', '__getattr__', '__getattribute__', '__gt__', '__hash__', '__init__', '__le__', '__lt__', '__module__', '__ne__', '__new__', '__reduce__', '__reduce_ex__', '__repr__', '__setattr__', '__sizeof__', '__str__', '__subclasshook__', '__swig_destroy__', '__swig_getmethods__', '__swig_setmethods__', '__weakref__', 'fOTUpCol_l', 'fOTUpCol_u', 'fOTUpRow_l', 'fOTUpRow_u', 'fOTUpX_l', 'fOTUpX_u', 'fOTUpY_l', 'fOTUpY_u', 'this']\n"
     ]
    }
   ],
   "source": [
    "r0 = cpy.core.io.TIOReader('../CHECLabPy/data/chec_r1.tio')\n",
    "print(dir(r0.camera_config.GetMapping()))"
   ]
  },
  {
   "cell_type": "code",
   "execution_count": 69,
   "metadata": {},
   "outputs": [],
   "source": [
    "r1 = cpy.core.io.TIOReader('../CHECLabPy/data/chec_r1.tio')"
   ]
  },
  {
   "cell_type": "code",
   "execution_count": 70,
   "metadata": {
    "collapsed": true
   },
   "outputs": [],
   "source": [
    "rlist = [r0, r1]"
   ]
  },
  {
   "cell_type": "code",
   "execution_count": 71,
   "metadata": {},
   "outputs": [
    {
     "name": "stdout",
     "output_type": "stream",
     "text": [
      "Number of events in file = 5\n"
     ]
    }
   ],
   "source": [
    "nev = rlist[0].n_events\n",
    "print (\"Number of events in file = %i\" % nev)\n",
    "for r in rlist:\n",
    "    if not nev == r.n_events:\n",
    "        print (\"ERROR\")"
   ]
  },
  {
   "cell_type": "code",
   "execution_count": 51,
   "metadata": {},
   "outputs": [
    {
     "name": "stdout",
     "output_type": "stream",
     "text": [
      "Ev=0\n",
      "R0 #pix=2048 #sam=128 dt=0 ms\n",
      "R0 #pix=2048 #sam=128 dt=0 ms\n",
      "Ev=1\n",
      "R1 #pix=2048 #sam=128 dt=2 ms\n",
      "R1 #pix=2048 #sam=128 dt=2 ms\n",
      "Ev=2\n",
      "R2 #pix=2048 #sam=128 dt=4 ms\n",
      "R2 #pix=2048 #sam=128 dt=4 ms\n",
      "Ev=3\n",
      "R3 #pix=2048 #sam=128 dt=6 ms\n",
      "R3 #pix=2048 #sam=128 dt=6 ms\n",
      "Ev=4\n",
      "R4 #pix=2048 #sam=128 dt=8 ms\n",
      "R4 #pix=2048 #sam=128 dt=8 ms\n"
     ]
    }
   ],
   "source": [
    "for iev in range(nev):\n",
    "    print (\"Ev=%i\" % iev)\n",
    "    for r in rlist:\n",
    "        wf = r[iev]\n",
    "        tack = r.reader.fCurrentTimeTack\n",
    "        if iev == 0: tack0 = tack\n",
    "        spu_sec = r.reader.fCurrentTimeSec\n",
    "        cpu_ns = r.reader.fCurrentTimeNs\n",
    "        print(\"R%i #pix=%i #sam=%i dt=%d ms\" % (r.index, len(wf), len(wf[0]), float(tack-tack0)/1e6))"
   ]
  }
 ],
 "metadata": {
  "kernelspec": {
   "display_name": "Python [conda env:cta]",
   "language": "python",
   "name": "conda-env-cta-py"
  },
  "language_info": {
   "codemirror_mode": {
    "name": "ipython",
    "version": 3
   },
   "file_extension": ".py",
   "mimetype": "text/x-python",
   "name": "python",
   "nbconvert_exporter": "python",
   "pygments_lexer": "ipython3",
   "version": "3.5.1"
  }
 },
 "nbformat": 4,
 "nbformat_minor": 2
}
